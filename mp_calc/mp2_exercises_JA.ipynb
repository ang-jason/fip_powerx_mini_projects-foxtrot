{
  "nbformat": 4,
  "nbformat_minor": 0,
  "metadata": {
    "kernelspec": {
      "display_name": "Python 3",
      "language": "python",
      "name": "python3"
    },
    "language_info": {
      "codemirror_mode": {
        "name": "ipython",
        "version": 3
      },
      "file_extension": ".py",
      "mimetype": "text/x-python",
      "name": "python",
      "nbconvert_exporter": "python",
      "pygments_lexer": "ipython3",
      "version": "3.7.4"
    },
    "colab": {
      "name": "mp2_exercises_JA.ipynb",
      "provenance": [],
      "collapsed_sections": []
    }
  },
  "cells": [
    {
      "cell_type": "markdown",
      "metadata": {
        "id": "ApD9-8tbIkh6"
      },
      "source": [
        "# Mini Project: Sorting and Evaluating Math Expressions"
      ]
    },
    {
      "cell_type": "markdown",
      "metadata": {
        "id": "m40ZC1TXIkh7"
      },
      "source": [
        "## Week 3"
      ]
    },
    {
      "cell_type": "markdown",
      "metadata": {
        "id": "3Z6lQH7WIkh7"
      },
      "source": [
        "**Q1.** *Mergesort:* Modify your `mergesort(array)` function that you did in your cohort session to take one additional argument called `byfunc`, i.e. `mergesort(array, byfunc)`. If the caller does not specify the value of `byfunc`, its default value is `None`. When this argument is `None`, the function `mergesort` behaves similar to your cohort session by sorting the array according to its values. However, when the value of this argument is not `None` but rather some other function, your `mergesort` function should sort the array according to the value returned by this function. \n",
        "\n",
        "For example, instead of sorting an array of integers, we want to sort an array of tupple.\n",
        "```python\n",
        "array = [(1, 2), (3, 2), (2, -1), (4, 7), (-1, -2)]\n",
        "```\n",
        "We can define a function say `select()` as follows:\n",
        "```python\n",
        "def select(item):\n",
        "    return item[0]\n",
        "```\n",
        "\n",
        "You can then should be able to call your `mergesort()` function in the following:\n",
        "```python\n",
        "mergesort(array, select)\n",
        "```\n",
        "which will sort the list of tuples according to the value of its *first* element (recall `item[0]` in `select()`). This means that if you want to sort based on the *second* element of the tuple, you can redefine select as:\n",
        "```python\n",
        "def select(item):\n",
        "    return item[1]\n",
        "```\n",
        "\n",
        "You can also apply this to a list of objects, say `User` class objects.\n",
        "```python\n",
        "array = [<User 1>, <User 2>, <User 3>, ..., <User 101>]\n",
        "```\n",
        "You can define the following `select()` function to sort according to its `username` attribute.\n",
        "```python\n",
        "def select(item):\n",
        "    return item.username\n",
        "```\n",
        "\n",
        "You can then call the `mergesort()` function as follows:\n",
        "```python\n",
        "mergesort(array, select)\n",
        "```\n",
        "\n",
        "Python allows you to write [lambda functions](https://realpython.com/python-lambda/) to replace your `select()` function definition. You can simply call merge sort with the following without defining `select()`.\n",
        "```python\n",
        "mergesort(array, lambda item: item.username)\n",
        "```"
      ]
    },
    {
      "cell_type": "code",
      "metadata": {
        "id": "rpuq85C3Ikh8"
      },
      "source": [
        "def mergesort(array, byfunc=None):\n",
        "  pass"
      ],
      "execution_count": null,
      "outputs": []
    },
    {
      "cell_type": "code",
      "metadata": {
        "colab": {
          "base_uri": "https://localhost:8080/",
          "height": 231
        },
        "id": "v1uW6mdcIkh8",
        "outputId": "deb1a9bc-c028-4ca3-f0c4-a95e3a0e08d7"
      },
      "source": [
        "array = [(1, 2), (3, 2), (2, -1), (4, 7), (-1, -2)]\n",
        "mergesort(array, lambda item: item[0])\n",
        "assert array == [(-1, -2), (1, 2), (2, -1), (3, 2), (4, 7)]\n",
        "mergesort(array, lambda item: item[1])\n",
        "assert array == [(-1, -2), (2, -1), (1, 2), (3, 2), (4, 7)]"
      ],
      "execution_count": null,
      "outputs": [
        {
          "output_type": "error",
          "ename": "AssertionError",
          "evalue": "ignored",
          "traceback": [
            "\u001b[0;31m---------------------------------------------------------------------------\u001b[0m",
            "\u001b[0;31mAssertionError\u001b[0m                            Traceback (most recent call last)",
            "\u001b[0;32m<ipython-input-2-b9452c5d41bb>\u001b[0m in \u001b[0;36m<module>\u001b[0;34m()\u001b[0m\n\u001b[1;32m      1\u001b[0m \u001b[0marray\u001b[0m \u001b[0;34m=\u001b[0m \u001b[0;34m[\u001b[0m\u001b[0;34m(\u001b[0m\u001b[0;36m1\u001b[0m\u001b[0;34m,\u001b[0m \u001b[0;36m2\u001b[0m\u001b[0;34m)\u001b[0m\u001b[0;34m,\u001b[0m \u001b[0;34m(\u001b[0m\u001b[0;36m3\u001b[0m\u001b[0;34m,\u001b[0m \u001b[0;36m2\u001b[0m\u001b[0;34m)\u001b[0m\u001b[0;34m,\u001b[0m \u001b[0;34m(\u001b[0m\u001b[0;36m2\u001b[0m\u001b[0;34m,\u001b[0m \u001b[0;34m-\u001b[0m\u001b[0;36m1\u001b[0m\u001b[0;34m)\u001b[0m\u001b[0;34m,\u001b[0m \u001b[0;34m(\u001b[0m\u001b[0;36m4\u001b[0m\u001b[0;34m,\u001b[0m \u001b[0;36m7\u001b[0m\u001b[0;34m)\u001b[0m\u001b[0;34m,\u001b[0m \u001b[0;34m(\u001b[0m\u001b[0;34m-\u001b[0m\u001b[0;36m1\u001b[0m\u001b[0;34m,\u001b[0m \u001b[0;34m-\u001b[0m\u001b[0;36m2\u001b[0m\u001b[0;34m)\u001b[0m\u001b[0;34m]\u001b[0m\u001b[0;34m\u001b[0m\u001b[0;34m\u001b[0m\u001b[0m\n\u001b[1;32m      2\u001b[0m \u001b[0mmergesort\u001b[0m\u001b[0;34m(\u001b[0m\u001b[0marray\u001b[0m\u001b[0;34m,\u001b[0m \u001b[0;32mlambda\u001b[0m \u001b[0mitem\u001b[0m\u001b[0;34m:\u001b[0m \u001b[0mitem\u001b[0m\u001b[0;34m[\u001b[0m\u001b[0;36m0\u001b[0m\u001b[0;34m]\u001b[0m\u001b[0;34m)\u001b[0m\u001b[0;34m\u001b[0m\u001b[0;34m\u001b[0m\u001b[0m\n\u001b[0;32m----> 3\u001b[0;31m \u001b[0;32massert\u001b[0m \u001b[0marray\u001b[0m \u001b[0;34m==\u001b[0m \u001b[0;34m[\u001b[0m\u001b[0;34m(\u001b[0m\u001b[0;34m-\u001b[0m\u001b[0;36m1\u001b[0m\u001b[0;34m,\u001b[0m \u001b[0;34m-\u001b[0m\u001b[0;36m2\u001b[0m\u001b[0;34m)\u001b[0m\u001b[0;34m,\u001b[0m \u001b[0;34m(\u001b[0m\u001b[0;36m1\u001b[0m\u001b[0;34m,\u001b[0m \u001b[0;36m2\u001b[0m\u001b[0;34m)\u001b[0m\u001b[0;34m,\u001b[0m \u001b[0;34m(\u001b[0m\u001b[0;36m2\u001b[0m\u001b[0;34m,\u001b[0m \u001b[0;34m-\u001b[0m\u001b[0;36m1\u001b[0m\u001b[0;34m)\u001b[0m\u001b[0;34m,\u001b[0m \u001b[0;34m(\u001b[0m\u001b[0;36m3\u001b[0m\u001b[0;34m,\u001b[0m \u001b[0;36m2\u001b[0m\u001b[0;34m)\u001b[0m\u001b[0;34m,\u001b[0m \u001b[0;34m(\u001b[0m\u001b[0;36m4\u001b[0m\u001b[0;34m,\u001b[0m \u001b[0;36m7\u001b[0m\u001b[0;34m)\u001b[0m\u001b[0;34m]\u001b[0m\u001b[0;34m\u001b[0m\u001b[0;34m\u001b[0m\u001b[0m\n\u001b[0m\u001b[1;32m      4\u001b[0m \u001b[0mmergesort\u001b[0m\u001b[0;34m(\u001b[0m\u001b[0marray\u001b[0m\u001b[0;34m,\u001b[0m \u001b[0;32mlambda\u001b[0m \u001b[0mitem\u001b[0m\u001b[0;34m:\u001b[0m \u001b[0mitem\u001b[0m\u001b[0;34m[\u001b[0m\u001b[0;36m1\u001b[0m\u001b[0;34m]\u001b[0m\u001b[0;34m)\u001b[0m\u001b[0;34m\u001b[0m\u001b[0;34m\u001b[0m\u001b[0m\n\u001b[1;32m      5\u001b[0m \u001b[0;32massert\u001b[0m \u001b[0marray\u001b[0m \u001b[0;34m==\u001b[0m \u001b[0;34m[\u001b[0m\u001b[0;34m(\u001b[0m\u001b[0;34m-\u001b[0m\u001b[0;36m1\u001b[0m\u001b[0;34m,\u001b[0m \u001b[0;34m-\u001b[0m\u001b[0;36m2\u001b[0m\u001b[0;34m)\u001b[0m\u001b[0;34m,\u001b[0m \u001b[0;34m(\u001b[0m\u001b[0;36m2\u001b[0m\u001b[0;34m,\u001b[0m \u001b[0;34m-\u001b[0m\u001b[0;36m1\u001b[0m\u001b[0;34m)\u001b[0m\u001b[0;34m,\u001b[0m \u001b[0;34m(\u001b[0m\u001b[0;36m1\u001b[0m\u001b[0;34m,\u001b[0m \u001b[0;36m2\u001b[0m\u001b[0;34m)\u001b[0m\u001b[0;34m,\u001b[0m \u001b[0;34m(\u001b[0m\u001b[0;36m3\u001b[0m\u001b[0;34m,\u001b[0m \u001b[0;36m2\u001b[0m\u001b[0;34m)\u001b[0m\u001b[0;34m,\u001b[0m \u001b[0;34m(\u001b[0m\u001b[0;36m4\u001b[0m\u001b[0;34m,\u001b[0m \u001b[0;36m7\u001b[0m\u001b[0;34m)\u001b[0m\u001b[0;34m]\u001b[0m\u001b[0;34m\u001b[0m\u001b[0;34m\u001b[0m\u001b[0m\n",
            "\u001b[0;31mAssertionError\u001b[0m: "
          ]
        }
      ]
    },
    {
      "cell_type": "markdown",
      "metadata": {
        "id": "5CtAQ98RIkh8"
      },
      "source": [
        "**Q2.** Create a class called `EvaluateExpression` to evaluate mathematical expressions for Integers. The class has the following property:\n",
        "- `expression`: which is a property with a get and set method. The set method of this property should check if the string contains any invalid characters. If there is any invalid character, it should set the internal property `expr` to an empty String. Otherwise, it should set the string as it is. Valid characters are: `0123456789+-*/()` and an empty space.\n",
        "- `expr`: which is a property that stores only valid expression. It is used internally to store the expression.\n",
        "\n",
        "During object instantiation, a string can be passed on to `__init__()`.\n",
        "- `__init__(expr)`: where expr is the mathematical expression to initialize the property `expr`. If nothing is provided it should initialize to an empty String. If the string contains other characters besides those in the valid characters list above, the property `expr` should be initialized to an empty string.\n",
        "\n",
        "\n"
      ]
    },
    {
      "cell_type": "code",
      "metadata": {
        "id": "b5oAzRpnIkh9"
      },
      "source": [
        "class EvaluateExpression:\n",
        "  valid_char = '0123456789+-*/() '\n",
        "\n",
        "  def __init__(self, string=\"\"):\n",
        "    self.string=string\n",
        "    \n",
        "    pass\n",
        "\n",
        "  @property\n",
        "  def expression(self):\n",
        "    return self.string\n",
        "    pass\n",
        "\n",
        "  @expression.setter\n",
        "  def expression(self, new_expr):\n",
        "    for each in new_expr:\n",
        "      if each not in EvaluateExpression.valid_char:\n",
        "        self.string=\"\"\n",
        "        print(\"mod:\",new_expr,self.string)\n",
        "        return self.string\n",
        "      else:\n",
        "        print(new_expr)\n",
        "        self.string=new_expr\n",
        "        pass\n",
        "    pass\n",
        "\n",
        "  "
      ],
      "execution_count": null,
      "outputs": []
    },
    {
      "cell_type": "code",
      "metadata": {
        "colab": {
          "base_uri": "https://localhost:8080/"
        },
        "id": "0VEb151CP0ac",
        "outputId": "bb6eea91-9d50-4342-b2c3-4a529d5db91c"
      },
      "source": [
        "def containsAny(str, set):\n",
        "  for each in str:\n",
        "    if each not in set:\n",
        "      str=\"\"\n",
        "      return str\n",
        "    else:\n",
        "      print(each)\n",
        "      pass\n",
        "      \n",
        "\n",
        "set = '0123456789+-*/() '\n",
        "str=\"3 * 4\"\n",
        "\n",
        "\n",
        "containsAny(str,set)\n",
        "\n",
        "\n"
      ],
      "execution_count": null,
      "outputs": [
        {
          "output_type": "stream",
          "text": [
            "3\n",
            " \n",
            "*\n",
            " \n",
            "4\n"
          ],
          "name": "stdout"
        }
      ]
    },
    {
      "cell_type": "code",
      "metadata": {
        "colab": {
          "base_uri": "https://localhost:8080/"
        },
        "id": "mVK6R-OqIkh9",
        "outputId": "9ef0ced2-be5b-45f8-92df-eda40101bd34"
      },
      "source": [
        "expr1 = EvaluateExpression()\n",
        "assert expr1.expression == \"\"\n",
        "expr2 = EvaluateExpression(\"1 + 2\")\n",
        "assert expr2.expression == \"1 + 2\"\n",
        "expr2.expression = \"3 * 4\"\n",
        "assert expr2.expression == \"3 * 4\"\n",
        "expr2.expression = \"3 & 4\"\n",
        "assert expr2.expression == \"\""
      ],
      "execution_count": null,
      "outputs": [
        {
          "output_type": "stream",
          "text": [
            "3 * 4\n",
            "3 * 4\n",
            "3 * 4\n",
            "3 * 4\n",
            "3 * 4\n",
            "3 & 4\n",
            "3 & 4\n",
            "mod: 3 & 4 \n"
          ],
          "name": "stdout"
        }
      ]
    },
    {
      "cell_type": "markdown",
      "metadata": {
        "id": "zG8PQA7pIkh-"
      },
      "source": [
        "**Q3.** The class `EvaluateExpression` also has the following method:\n",
        "- `insert_space()`: which is used to insert one empty space before an operator and another empty space after the operator in the `expression` property. The function should return a new String. Note that this means that if there are two operators side by side, there will be two empty space between them.\n",
        "\n"
      ]
    },
    {
      "cell_type": "code",
      "metadata": {
        "id": "SCjBBHsjIkh-"
      },
      "source": [
        "# class EvaluateExpression:\n",
        "#   # copy the other definitions\n",
        "#   # from the previous parts\n",
        "\n",
        "#   def insert_space(self):\n",
        "    \n",
        "#     pass"
      ],
      "execution_count": null,
      "outputs": []
    },
    {
      "cell_type": "code",
      "metadata": {
        "id": "X1wqR-JWWJTE"
      },
      "source": [
        "class EvaluateExpression:\n",
        "  valid_char = '0123456789+-*/() '\n",
        "\n",
        "  def __init__(self, string=\"\"):\n",
        "    self.string=string\n",
        "    \n",
        "    pass\n",
        "\n",
        "  @property\n",
        "  def expression(self):\n",
        "    return self.string\n",
        "    pass\n",
        "\n",
        "  @expression.setter\n",
        "  def expression(self, new_expr):\n",
        "    for each in new_expr:\n",
        "      if each not in EvaluateExpression.valid_char:\n",
        "        self.string=\"\"\n",
        "        print(\"mod:\",new_expr,self.string)\n",
        "        return self.string\n",
        "      else:\n",
        "        print(new_expr)\n",
        "        self.string=new_expr\n",
        "        return self.string\n",
        "        pass\n",
        "    pass\n",
        "\n",
        "  operator_char=\"+-*/()\"\n",
        "\n",
        "  def insert_space(self):\n",
        "    \n",
        "    self.string= self.string.replace(\" \", \"\")\n",
        "    print(self.string)\n",
        "\n",
        "    stringlist=list(self.string)\n",
        "    new_stringlist=stringlist.copy()\n",
        "\n",
        "\n",
        "    operator_char=\"+-*/()\"\n",
        "    internal_counter=0\n",
        "\n",
        "    for i in range(1,len(stringlist)):\n",
        "  \n",
        "      if stringlist[i-1] in operator_char and  stringlist[i] in operator_char:\n",
        "        print(\"TGT\",i)\n",
        "        new_stringlist.insert(i+internal_counter,\" \") #idx is always moving!!!!!\n",
        "        internal_counter+=1\n",
        "    \n",
        "    # \n",
        "\n",
        "      print(stringlist[i],i)\n",
        "      i=i+1\n",
        "\n",
        "    print(\"new_stringlist\",new_stringlist)\n",
        "    self.string=\"\".join(new_stringlist)\n",
        "    print(\"\".join(new_stringlist))\n",
        "\n",
        "    new_string=\"\".join(new_stringlist)\n",
        "    # self.string = \" \" + \" \".join(self.string for self.string in self.string)+\" \"\n",
        "    \n",
        "    valid_alpha = '0123456789+-*/()'\n",
        "\n",
        "    new_string2=\"\"\n",
        "    for each in new_string:\n",
        "      if each in valid_alpha: \n",
        "        new_string2=new_string2 + \" \"+each\n",
        "      elif each == \" \":\n",
        "        new_string2=new_string2 + \" \"\n",
        "\n",
        "    print(new_string2)\n",
        "    new_string2=new_string2+\" \"\n",
        "    self.string= new_string2\n",
        "    print(\"incall\",self.string)\n",
        "    return self.string\n",
        "    pass"
      ],
      "execution_count": null,
      "outputs": []
    },
    {
      "cell_type": "code",
      "metadata": {
        "id": "Bnyp0zxTbueZ"
      },
      "source": [
        "# operator_char=\"+-*/()\"\n",
        "# string=\" ( ( 1 + 2 ) * 3 / ( 4 - 5 ) ) \"\n",
        "# #      \" (  ( 1 + 2 )  * 3 /  ( 4 - 5 )  ) \"\n",
        "# counter=0\n",
        "# repeat=0\n",
        "# new_string=\"\"\n",
        "# length=len(string)-1\n",
        "# print(\"length\",length)\n",
        "# for each in string:\n",
        "#   print(\"each [\",each,\"]\")\n",
        "#   if counter==1 and each != \" \":\n",
        "#     repeat+=1\n",
        "#     if repeat==3:\n",
        "#         counter=0\n",
        "#         repeat=0\n",
        "#     print(\"repeat\",repeat)\n",
        "#   if each in operator_char:\n",
        "#     counter+=1\n",
        "#     if counter==2:\n",
        "#       print(\"changed\")\n",
        "#       each=\" \"+each\n",
        "#       counter=0\n",
        "  \n",
        "\n",
        "#   new_string=new_string+each\n",
        "\n",
        "\n",
        "\n",
        "\n",
        "#       # print(each)\n",
        "#   print(new_string, counter)"
      ],
      "execution_count": null,
      "outputs": []
    },
    {
      "cell_type": "code",
      "metadata": {
        "colab": {
          "base_uri": "https://localhost:8080/"
        },
        "id": "NseWFmiwWkb9",
        "outputId": "af1f6fe5-52c4-42a6-a0f1-a29de35cdc0b"
      },
      "source": [
        "\n",
        "### THIS IS GOOD PIECE\n",
        "operator_char=\"+-*/()\"\n",
        "\n",
        "string=\"((1+2)*3/(4-5))\"\n",
        "# string=\" ( 1 + 2 ) \"\n",
        "# \n",
        "string= string.replace(\" \", \"\")\n",
        "print(string)\n",
        "new_string=\"\"\n",
        "\n",
        "print(string)\n",
        "print(len(string)-1)\n",
        "stringlist=list(string)\n",
        "print(stringlist)\n",
        "print(\"\".join(stringlist))\n",
        "\n",
        "\n",
        "print(string)\n",
        "new_stringlist=stringlist.copy()\n",
        "print(len(stringlist))\n",
        "\n",
        "internal_counter=0\n",
        "\n",
        "for i in range(1,len(stringlist)):\n",
        "  \n",
        "  if stringlist[i-1] in operator_char and  stringlist[i] in operator_char:\n",
        "    print(\"TGT\",i)\n",
        "    new_stringlist.insert(i+internal_counter,\" \") #idx is always moving!!!!!\n",
        "    internal_counter+=1\n",
        "    \n",
        "# \n",
        "\n",
        "  # print(stringlist[i],i)\n",
        "  i=i+1\n",
        "\n",
        "# print(\"stringlist\",stringlist)\n",
        "# # print(\"\".join(stringlist))\n",
        "\n",
        "print(\"new_stringlist\",new_stringlist)\n",
        "print(\"\".join(new_stringlist))\n",
        "\n",
        "\n",
        "\n",
        "print(\"new_string\",new_string)\n",
        "\n",
        "\n",
        "new_string=\"\".join(new_stringlist)\n",
        "## NOW THIS PROBLEM@@@\n",
        "\n",
        "print(new_string)\n",
        "# new_string == \" (  ( 1 + 2 )  * 3 /  ( 4 - 5 )  ) \"\n",
        "\n",
        "valid_alpha = '0123456789+-*/()'\n",
        "\n",
        "new_string2=\"\"\n",
        "for each in new_string:\n",
        "  if each in valid_alpha: \n",
        "    new_string2=new_string2 + \" \"+each\n",
        "  elif each == \" \":\n",
        "    new_string2=new_string2 + \" \"\n",
        "\n",
        "print(\"new_string2\",new_string2)\n",
        "new_string2=new_string2+\" \"\n",
        "\n",
        "\n",
        "\n",
        "new_string2== \" (  ( 1 + 2 )  * 3 /  ( 4 - 5 )  ) \""
      ],
      "execution_count": null,
      "outputs": [
        {
          "output_type": "stream",
          "text": [
            "((1+2)*3/(4-5))\n",
            "((1+2)*3/(4-5))\n",
            "14\n",
            "['(', '(', '1', '+', '2', ')', '*', '3', '/', '(', '4', '-', '5', ')', ')']\n",
            "((1+2)*3/(4-5))\n",
            "((1+2)*3/(4-5))\n",
            "15\n",
            "TGT 1\n",
            "TGT 6\n",
            "TGT 9\n",
            "TGT 14\n",
            "new_stringlist ['(', ' ', '(', '1', '+', '2', ')', ' ', '*', '3', '/', ' ', '(', '4', '-', '5', ')', ' ', ')']\n",
            "( (1+2) *3/ (4-5) )\n",
            "new_string \n",
            "( (1+2) *3/ (4-5) )\n",
            "new_string2  (  ( 1 + 2 )  * 3 /  ( 4 - 5 )  )\n"
          ],
          "name": "stdout"
        },
        {
          "output_type": "execute_result",
          "data": {
            "text/plain": [
              "True"
            ]
          },
          "metadata": {
            "tags": []
          },
          "execution_count": 106
        }
      ]
    },
    {
      "cell_type": "code",
      "metadata": {
        "colab": {
          "base_uri": "https://localhost:8080/"
        },
        "id": "bh6YS45aM6Yn",
        "outputId": "ad1ff254-06af-4308-dd05-d3cc86852195"
      },
      "source": [
        "expr1 = EvaluateExpression(\"(1+2)\")\n",
        "expr1.insert_space() == \" ( 1 + 2 ) \""
      ],
      "execution_count": null,
      "outputs": [
        {
          "output_type": "stream",
          "text": [
            "(1+2)\n",
            "1 1\n",
            "+ 2\n",
            "2 3\n",
            ") 4\n",
            "new_stringlist ['(', '1', '+', '2', ')']\n",
            "(1+2)\n",
            " ( 1 + 2 )\n",
            "incall  ( 1 + 2 ) \n"
          ],
          "name": "stdout"
        },
        {
          "output_type": "execute_result",
          "data": {
            "text/plain": [
              "True"
            ]
          },
          "metadata": {
            "tags": []
          },
          "execution_count": 6
        }
      ]
    },
    {
      "cell_type": "code",
      "metadata": {
        "colab": {
          "base_uri": "https://localhost:8080/"
        },
        "id": "V69yiAPQIkh-",
        "outputId": "1f468261-a0a1-4075-e064-b5eebc797b8e"
      },
      "source": [
        "expr1 = EvaluateExpression(\"(1+2)\")\n",
        "assert expr1.insert_space() == \" ( 1 + 2 ) \"\n",
        "expr1.expression = \"((1+2)*3/(4-5))\"\n",
        "assert expr1.insert_space() == \" (  ( 1 + 2 )  * 3 /  ( 4 - 5 )  ) \"\n"
      ],
      "execution_count": null,
      "outputs": [
        {
          "output_type": "stream",
          "text": [
            "(1+2)\n",
            "1 1\n",
            "+ 2\n",
            "2 3\n",
            ") 4\n",
            "new_stringlist ['(', '1', '+', '2', ')']\n",
            "(1+2)\n",
            " ( 1 + 2 )\n",
            "incall  ( 1 + 2 ) \n",
            "((1+2)*3/(4-5))\n",
            "((1+2)*3/(4-5))\n",
            "TGT 1\n",
            "( 1\n",
            "1 2\n",
            "+ 3\n",
            "2 4\n",
            ") 5\n",
            "TGT 6\n",
            "* 6\n",
            "3 7\n",
            "/ 8\n",
            "TGT 9\n",
            "( 9\n",
            "4 10\n",
            "- 11\n",
            "5 12\n",
            ") 13\n",
            "TGT 14\n",
            ") 14\n",
            "new_stringlist ['(', ' ', '(', '1', '+', '2', ')', ' ', '*', '3', '/', ' ', '(', '4', '-', '5', ')', ' ', ')']\n",
            "( (1+2) *3/ (4-5) )\n",
            " (  ( 1 + 2 )  * 3 /  ( 4 - 5 )  )\n",
            "incall  (  ( 1 + 2 )  * 3 /  ( 4 - 5 )  ) \n"
          ],
          "name": "stdout"
        }
      ]
    },
    {
      "cell_type": "markdown",
      "metadata": {
        "id": "2wfuDcXuIkh-"
      },
      "source": [
        "## Week 4"
      ]
    },
    {
      "cell_type": "markdown",
      "metadata": {
        "id": "ss_vgq4WIkh_"
      },
      "source": [
        "**Q4.** The class `EvaluateExpression` also has the following methods:\n",
        "- `process_operator(operand_stack, operator_stack)`: which process one operator. This method should modify the Stacks provided in the arguments. Note that the division operator `/` should be considered as an integer division for this exercise. This means that you need to use `//` in Python."
      ]
    },
    {
      "cell_type": "code",
      "metadata": {
        "id": "BHsP7OVZIkh_"
      },
      "source": [
        "class Stack:\n",
        "  pass\n"
      ],
      "execution_count": null,
      "outputs": []
    },
    {
      "cell_type": "code",
      "metadata": {
        "id": "JhR6N7b7Ikh_"
      },
      "source": [
        "class EvaluateExpression:\n",
        "  # copy the other definitions\n",
        "  # from the previous parts\n",
        "\n",
        "  def process_operator(self, operand_stack, operator_stack):\n",
        "    pass\n",
        "\n",
        "    \n",
        "  "
      ],
      "execution_count": null,
      "outputs": []
    },
    {
      "cell_type": "code",
      "metadata": {
        "colab": {
          "base_uri": "https://localhost:8080/",
          "height": 231
        },
        "id": "-KB89GxSIkiA",
        "outputId": "42037a63-0b75-49d9-dea3-517299d06a0f"
      },
      "source": [
        "expr1 = EvaluateExpression()\n",
        "operand_stack = Stack()\n",
        "operator_stack = Stack()\n",
        "operand_stack.push(3)\n",
        "operand_stack.push(4)\n",
        "operator_stack.push(\"+\")\n",
        "expr1.process_operator(operand_stack, operator_stack)\n",
        "assert operand_stack.peek() == 7\n",
        "operand_stack.push(5)\n",
        "operator_stack.push(\"*\")\n",
        "expr1.process_operator(operand_stack, operator_stack)\n",
        "assert operand_stack.peek() == 35\n",
        "operand_stack.push(30)\n",
        "operator_stack.push(\"-\")\n",
        "expr1.process_operator(operand_stack, operator_stack)\n",
        "assert operand_stack.peek() == 5\n",
        "operand_stack.push(2)\n",
        "operator_stack.push(\"/\")\n",
        "expr1.process_operator(operand_stack, operator_stack)\n",
        "assert operand_stack.peek() == 2"
      ],
      "execution_count": null,
      "outputs": [
        {
          "output_type": "error",
          "ename": "NameError",
          "evalue": "ignored",
          "traceback": [
            "\u001b[0;31m---------------------------------------------------------------------------\u001b[0m",
            "\u001b[0;31mNameError\u001b[0m                                 Traceback (most recent call last)",
            "\u001b[0;32m<ipython-input-93-9c2d3b722e4b>\u001b[0m in \u001b[0;36m<module>\u001b[0;34m()\u001b[0m\n\u001b[1;32m      1\u001b[0m \u001b[0mexpr1\u001b[0m \u001b[0;34m=\u001b[0m \u001b[0mEvaluateExpression\u001b[0m\u001b[0;34m(\u001b[0m\u001b[0;34m)\u001b[0m\u001b[0;34m\u001b[0m\u001b[0;34m\u001b[0m\u001b[0m\n\u001b[0;32m----> 2\u001b[0;31m \u001b[0moperand_stack\u001b[0m \u001b[0;34m=\u001b[0m \u001b[0mStack\u001b[0m\u001b[0;34m(\u001b[0m\u001b[0;34m)\u001b[0m\u001b[0;34m\u001b[0m\u001b[0;34m\u001b[0m\u001b[0m\n\u001b[0m\u001b[1;32m      3\u001b[0m \u001b[0moperator_stack\u001b[0m \u001b[0;34m=\u001b[0m \u001b[0mStack\u001b[0m\u001b[0;34m(\u001b[0m\u001b[0;34m)\u001b[0m\u001b[0;34m\u001b[0m\u001b[0;34m\u001b[0m\u001b[0m\n\u001b[1;32m      4\u001b[0m \u001b[0moperand_stack\u001b[0m\u001b[0;34m.\u001b[0m\u001b[0mpush\u001b[0m\u001b[0;34m(\u001b[0m\u001b[0;36m3\u001b[0m\u001b[0;34m)\u001b[0m\u001b[0;34m\u001b[0m\u001b[0;34m\u001b[0m\u001b[0m\n\u001b[1;32m      5\u001b[0m \u001b[0moperand_stack\u001b[0m\u001b[0;34m.\u001b[0m\u001b[0mpush\u001b[0m\u001b[0;34m(\u001b[0m\u001b[0;36m4\u001b[0m\u001b[0;34m)\u001b[0m\u001b[0;34m\u001b[0m\u001b[0;34m\u001b[0m\u001b[0m\n",
            "\u001b[0;31mNameError\u001b[0m: name 'Stack' is not defined"
          ]
        }
      ]
    },
    {
      "cell_type": "markdown",
      "metadata": {
        "id": "3dDXKthpIkiA"
      },
      "source": [
        "**Q5.** The class `EvaluateExpression` also has the following methods:\n",
        "- `evaluate()`: which evaluate the mathematical expression contained in the property `expression`. The method should return an Integer. This method contains two processes:\n",
        "    - Phase 1: In this phase, the code scans the expression from left to right to extract operands, operators, and the parentheses.\n",
        "        1. If the extracted character is an operand, push it to `operand_stack`.\n",
        "        1. If the extracted character is + or - operator, process  all the operators at the top of the `operator_stack` and push the extracted operator to `operator_stack`. You should process all the operators as long as the `operator_stack` is not empty and the top of the `operator_stack` is not `(` or `)` symbols.\n",
        "        1. If the extracted character is a `*` or `/` operator, process all the `*` or `/` operators at the top of the `operator_stack` and push the extracted operator to `operator_stack`. \n",
        "        1. If the extracted character is a `(` symbol, push it to `operator_stack`.\n",
        "        1. If the extracted character is a `)` symbol, repeatedly process the operators from the top of `operator_stack` until seeing the `(` symbol on the stack. \n",
        "    - Phase 2: Repeatedly process the operators from the top of `operator_stack` until `operator_stack` is empty.\n"
      ]
    },
    {
      "cell_type": "code",
      "metadata": {
        "id": "ryfIMCNWIkiA"
      },
      "source": [
        "class EvaluateExpression:\n",
        "  # copy the other definitions\n",
        "  # from the previous parts\n",
        "\n",
        "  def evaluate(self):\n",
        "    operand_stack = Stack()\n",
        "    operator_stack = Stack()\n",
        "    expression = self.insert_space()\n",
        "    tokens = expression.split()\n",
        "    pass"
      ],
      "execution_count": 1,
      "outputs": []
    },
    {
      "cell_type": "code",
      "metadata": {
        "id": "ZbgnynA4IkiA"
      },
      "source": [
        "expr1 = EvaluateExpression(\"(1+2)*3\")\n",
        "assert expr1.evaluate() == 9\n",
        "expr1.expression = \"(1 + 2) * 4 - 3\"\n",
        "assert expr1.evaluate() == 9\n",
        "expr2 = EvaluateExpression(\"(1+2 *4-  3)* (7/5 * 6)\")\n",
        "assert expr2.evaluate() == 36"
      ],
      "execution_count": null,
      "outputs": []
    },
    {
      "cell_type": "code",
      "metadata": {
        "id": "gygx_bg8IkiB"
      },
      "source": [
        ""
      ],
      "execution_count": null,
      "outputs": []
    }
  ]
}